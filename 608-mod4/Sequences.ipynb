{
 "cells": [
  {
   "cell_type": "code",
   "execution_count": 2,
   "id": "37302cb9-e410-4ae7-b2fd-95f5c262d896",
   "metadata": {},
   "outputs": [],
   "source": [
    "a = [[77, 68, 86, 73], [96, 87, 89, 81], [70, 90, 86, 81]]"
   ]
  },
  {
   "cell_type": "code",
   "execution_count": 3,
   "id": "6f494574-27fc-4bbc-a57b-7e7b5d8d9d99",
   "metadata": {},
   "outputs": [],
   "source": [
    "a = [[77, 68, 86, 73], # first student's grades\n",
    "     [96, 87, 89, 81], # second student's grades\n",
    "     [70, 90, 86, 81]] # third student's grades"
   ]
  },
  {
   "cell_type": "code",
   "execution_count": 5,
   "id": "49fc2fe3-6843-45e5-adca-c46542d928d8",
   "metadata": {},
   "outputs": [
    {
     "name": "stdout",
     "output_type": "stream",
     "text": [
      "77 68 86 73 \n",
      "96 87 89 81 \n",
      "70 90 86 81 \n"
     ]
    }
   ],
   "source": [
    "for row in a:\n",
    "    for item in row:\n",
    "        print(item, end=' ')\n",
    "    print()"
   ]
  },
  {
   "cell_type": "code",
   "execution_count": 6,
   "id": "b8b8ef0b-de86-4380-b89f-5c0283809c26",
   "metadata": {},
   "outputs": [
    {
     "name": "stdout",
     "output_type": "stream",
     "text": [
      "a[0][0]=77  \n",
      "a[0][1]=68  \n",
      "a[0][2]=86  \n",
      "a[0][3]=73  \n",
      "a[1][0]=96  \n",
      "a[1][1]=87  \n",
      "a[1][2]=89  \n",
      "a[1][3]=81  \n",
      "a[2][0]=70  \n",
      "a[2][1]=90  \n",
      "a[2][2]=86  \n",
      "a[2][3]=81  \n"
     ]
    }
   ],
   "source": [
    "for i, row in enumerate(a):\n",
    "    for j, item in enumerate(row):\n",
    "        print(f'a[{i}][{j}]={item} ', end=' ')\n",
    "        print()"
   ]
  },
  {
   "cell_type": "code",
   "execution_count": 7,
   "id": "91e41985-c1f0-4282-a4c5-cc480d78dabe",
   "metadata": {},
   "outputs": [],
   "source": [
    "t = [[10, 7, 3], [20, 4, 17]]"
   ]
  },
  {
   "cell_type": "code",
   "execution_count": 8,
   "id": "c8a9bf20-6e46-4143-926a-c61a7ee161b3",
   "metadata": {},
   "outputs": [],
   "source": [
    "total = 0"
   ]
  },
  {
   "cell_type": "code",
   "execution_count": 9,
   "id": "b7b090c0-ffb0-4a86-b8cc-9e535576677b",
   "metadata": {},
   "outputs": [],
   "source": [
    "items = 0"
   ]
  },
  {
   "cell_type": "code",
   "execution_count": 10,
   "id": "f873132a-4695-4e5a-b1d5-ed75ecbf556d",
   "metadata": {},
   "outputs": [],
   "source": [
    "for row in t:\n",
    "    for item in row:\n",
    "           total += item\n",
    "           items += 1"
   ]
  },
  {
   "cell_type": "code",
   "execution_count": 12,
   "id": "2d1265e9-ebce-4cc7-89e9-a7aeae77d6fa",
   "metadata": {},
   "outputs": [
    {
     "data": {
      "text/plain": [
       "10.166666666666666"
      ]
     },
     "execution_count": 12,
     "metadata": {},
     "output_type": "execute_result"
    }
   ],
   "source": [
    "total / items"
   ]
  },
  {
   "cell_type": "code",
   "execution_count": 13,
   "id": "d6bfd10f-1e6d-4c8e-9215-0d37b90bfd42",
   "metadata": {},
   "outputs": [],
   "source": [
    "total = 0"
   ]
  },
  {
   "cell_type": "code",
   "execution_count": 14,
   "id": "df3fbcc4-2775-49f3-ab9d-891b10c3b8de",
   "metadata": {},
   "outputs": [],
   "source": [
    "items = 0"
   ]
  },
  {
   "cell_type": "code",
   "execution_count": 16,
   "id": "206c7ae8-b695-49b4-b7ad-86a393a42192",
   "metadata": {},
   "outputs": [],
   "source": [
    "for row in t:\n",
    "    total += sum(row)\n",
    "    items += len(row)"
   ]
  },
  {
   "cell_type": "code",
   "execution_count": 17,
   "id": "7de306c9-4a33-4695-8d4c-bc4cb5e84e9d",
   "metadata": {},
   "outputs": [
    {
     "data": {
      "text/plain": [
       "10.166666666666666"
      ]
     },
     "execution_count": 17,
     "metadata": {},
     "output_type": "execute_result"
    }
   ],
   "source": [
    "total / items"
   ]
  },
  {
   "cell_type": "code",
   "execution_count": null,
   "id": "7ff10eb7-9a87-4256-b70d-2c7eb2627edf",
   "metadata": {},
   "outputs": [],
   "source": [
    "#IvanQuackenbush"
   ]
  }
 ],
 "metadata": {
  "kernelspec": {
   "display_name": "Python 3",
   "language": "python",
   "name": "python3"
  },
  "language_info": {
   "codemirror_mode": {
    "name": "ipython",
    "version": 3
   },
   "file_extension": ".py",
   "mimetype": "text/x-python",
   "name": "python",
   "nbconvert_exporter": "python",
   "pygments_lexer": "ipython3",
   "version": "3.7.13"
  }
 },
 "nbformat": 4,
 "nbformat_minor": 5
}
