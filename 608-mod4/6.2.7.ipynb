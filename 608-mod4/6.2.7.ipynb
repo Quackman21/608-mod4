{
 "cells": [
  {
   "cell_type": "code",
   "execution_count": 1,
   "id": "ec13cb0c-9260-4dcf-bc72-b08d92ff3a0b",
   "metadata": {},
   "outputs": [],
   "source": [
    "#6.2.7 IvanQuackenbush"
   ]
  },
  {
   "cell_type": "code",
   "execution_count": 6,
   "id": "e6aaaf61-71ce-44f1-a811-ba4dd5feb3eb",
   "metadata": {},
   "outputs": [
    {
     "data": {
      "text/plain": [
       "'Tokenizing a string and counting unique words.'"
      ]
     },
     "execution_count": 6,
     "metadata": {},
     "output_type": "execute_result"
    }
   ],
   "source": [
    "\"\"\"Tokenizing a string and counting unique words.\"\"\""
   ]
  },
  {
   "cell_type": "code",
   "execution_count": 30,
   "id": "492c3ba2-d85f-43c4-9fcd-13d5ba6c18c1",
   "metadata": {},
   "outputs": [],
   "source": [
    "text = ('Baseball is ninety percent mental and one hundred percent mental '\n",
    "        'Baseball is fun')"
   ]
  },
  {
   "cell_type": "code",
   "execution_count": null,
   "id": "e29b7674-a60b-46d9-bf6e-d27fcf474b5b",
   "metadata": {},
   "outputs": [],
   "source": []
  },
  {
   "cell_type": "code",
   "execution_count": 31,
   "id": "1a1ebf19-a7fd-41fa-b31d-9e6efac6b129",
   "metadata": {},
   "outputs": [],
   "source": [
    "word_counts = {}"
   ]
  },
  {
   "cell_type": "code",
   "execution_count": null,
   "id": "460811b9-77de-46cb-a2bd-236135613226",
   "metadata": {},
   "outputs": [],
   "source": []
  },
  {
   "cell_type": "code",
   "execution_count": 9,
   "id": "8099beee-59d3-4a4b-9769-b6917a7cc30b",
   "metadata": {},
   "outputs": [],
   "source": [
    "# count occurrences of each unique word"
   ]
  },
  {
   "cell_type": "code",
   "execution_count": 32,
   "id": "7c8eddb5-8aa1-41ed-b75c-48e7ca52b639",
   "metadata": {},
   "outputs": [],
   "source": [
    "for word in text.split():\n",
    "    if word in word_counts:\n",
    "        word_counts[word] += 1\n",
    "    else:\n",
    "        word_counts[word] = 1"
   ]
  },
  {
   "cell_type": "code",
   "execution_count": null,
   "id": "60c3a10a-ddec-4058-9cb2-4ebbdb41862b",
   "metadata": {},
   "outputs": [],
   "source": []
  },
  {
   "cell_type": "code",
   "execution_count": 33,
   "id": "bd250111-fb03-44f0-83f5-40ef13ac8a77",
   "metadata": {},
   "outputs": [
    {
     "name": "stdout",
     "output_type": "stream",
     "text": [
      "WORD        COUNT\n"
     ]
    }
   ],
   "source": [
    "print(f'{\"WORD\":<12}COUNT')"
   ]
  },
  {
   "cell_type": "code",
   "execution_count": 34,
   "id": "34f3081c-228f-45b1-a830-554e6f5104c7",
   "metadata": {},
   "outputs": [
    {
     "name": "stdout",
     "output_type": "stream",
     "text": [
      "Baseball    2\n",
      "and         1\n",
      "fun         1\n",
      "hundred     1\n",
      "is          2\n",
      "mental      2\n",
      "ninety      1\n",
      "one         1\n",
      "percent     2\n"
     ]
    }
   ],
   "source": [
    "for word, count in sorted(word_counts.items()):\n",
    "        print(f'{word:<12}{count}')"
   ]
  },
  {
   "cell_type": "code",
   "execution_count": 35,
   "id": "9920d533-2af4-4434-97e8-a4d4a2548955",
   "metadata": {},
   "outputs": [
    {
     "name": "stdout",
     "output_type": "stream",
     "text": [
      "\n",
      "Number of unique words: 9\n"
     ]
    }
   ],
   "source": [
    "print('\\nNumber of unique words:', len(word_counts))"
   ]
  },
  {
   "cell_type": "code",
   "execution_count": null,
   "id": "4e4717e9-bffd-4acb-8eac-ba13324e5e6a",
   "metadata": {},
   "outputs": [],
   "source": []
  }
 ],
 "metadata": {
  "kernelspec": {
   "display_name": "Python 3",
   "language": "python",
   "name": "python3"
  },
  "language_info": {
   "codemirror_mode": {
    "name": "ipython",
    "version": 3
   },
   "file_extension": ".py",
   "mimetype": "text/x-python",
   "name": "python",
   "nbconvert_exporter": "python",
   "pygments_lexer": "ipython3",
   "version": "3.7.13"
  }
 },
 "nbformat": 4,
 "nbformat_minor": 5
}
