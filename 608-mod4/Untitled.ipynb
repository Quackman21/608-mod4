{
 "cells": [
  {
   "cell_type": "code",
   "execution_count": 13,
   "id": "3586150c-7c65-4374-b405-c6aa91635b44",
   "metadata": {},
   "outputs": [],
   "source": [
    "state_codes = {'Missouri': 'mo', 'Illinois': 'il', 'Oklahoma': 'ok', 'Washington': 'wa', 'Arizona': 'az', 'Arkansas': 'ar'}"
   ]
  },
  {
   "cell_type": "code",
   "execution_count": 14,
   "id": "cf2bc754-e88f-40ef-84ef-4435875c8377",
   "metadata": {},
   "outputs": [
    {
     "data": {
      "text/plain": [
       "{'Missouri': 'mo',\n",
       " 'Illinois': 'il',\n",
       " 'Oklahoma': 'ok',\n",
       " 'Washington': 'wa',\n",
       " 'Arizona': 'az',\n",
       " 'Arkansas': 'ar'}"
      ]
     },
     "execution_count": 14,
     "metadata": {},
     "output_type": "execute_result"
    }
   ],
   "source": [
    "state_codes"
   ]
  },
  {
   "cell_type": "code",
   "execution_count": 5,
   "id": "72fed869-bcac-4bf6-9fcf-23141c49dd7d",
   "metadata": {},
   "outputs": [
    {
     "data": {
      "text/plain": [
       "3"
      ]
     },
     "execution_count": 5,
     "metadata": {},
     "output_type": "execute_result"
    }
   ],
   "source": [
    "len(state_codes)"
   ]
  },
  {
   "cell_type": "code",
   "execution_count": 15,
   "id": "3c96e794-819a-42ad-b85f-5c69dfd521a7",
   "metadata": {},
   "outputs": [
    {
     "name": "stdout",
     "output_type": "stream",
     "text": [
      "state_codes is not empty\n"
     ]
    }
   ],
   "source": [
    "if state_codes:\n",
    "    print('state_codes is not empty')\n",
    "else:\n",
    "    print('country_codes is empty')"
   ]
  },
  {
   "cell_type": "code",
   "execution_count": 16,
   "id": "693223e4-28c2-4335-bc52-ec9be3036f41",
   "metadata": {},
   "outputs": [],
   "source": [
    "state_codes.clear()"
   ]
  },
  {
   "cell_type": "code",
   "execution_count": 12,
   "id": "49251120-6c1d-442b-9f6b-d81e7e87204b",
   "metadata": {},
   "outputs": [
    {
     "name": "stdout",
     "output_type": "stream",
     "text": [
      "state_codes is empty\n"
     ]
    }
   ],
   "source": [
    "if state_codes:\n",
    "    print('state_codes is not empty')\n",
    "else:\n",
    "    print('state_codes is empty')"
   ]
  },
  {
   "cell_type": "code",
   "execution_count": null,
   "id": "cb081dfe-bd80-4d9c-a021-3ee7e23d8ba3",
   "metadata": {},
   "outputs": [],
   "source": []
  }
 ],
 "metadata": {
  "kernelspec": {
   "display_name": "Python 3",
   "language": "python",
   "name": "python3"
  },
  "language_info": {
   "codemirror_mode": {
    "name": "ipython",
    "version": 3
   },
   "file_extension": ".py",
   "mimetype": "text/x-python",
   "name": "python",
   "nbconvert_exporter": "python",
   "pygments_lexer": "ipython3",
   "version": "3.7.13"
  }
 },
 "nbformat": 4,
 "nbformat_minor": 5
}
