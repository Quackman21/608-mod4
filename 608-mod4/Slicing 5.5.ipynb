{
 "cells": [
  {
   "cell_type": "code",
   "execution_count": 1,
   "id": "6fa0cdb7-bf82-4b60-9f63-4f5e518d30bf",
   "metadata": {},
   "outputs": [],
   "source": [
    "numbers = [2, 3, 5, 7, 11, 13, 17, 19]"
   ]
  },
  {
   "cell_type": "code",
   "execution_count": 2,
   "id": "96fc61ca-100e-4c8b-850c-355bef555875",
   "metadata": {},
   "outputs": [
    {
     "data": {
      "text/plain": [
       "[5, 7, 11, 13]"
      ]
     },
     "execution_count": 2,
     "metadata": {},
     "output_type": "execute_result"
    }
   ],
   "source": [
    "numbers[2:6]"
   ]
  },
  {
   "cell_type": "code",
   "execution_count": 3,
   "id": "548a936b-8f3a-4b68-9cfd-06261672defd",
   "metadata": {},
   "outputs": [
    {
     "data": {
      "text/plain": [
       "[2, 3, 5, 7, 11, 13]"
      ]
     },
     "execution_count": 3,
     "metadata": {},
     "output_type": "execute_result"
    }
   ],
   "source": [
    "numbers[:6]"
   ]
  },
  {
   "cell_type": "code",
   "execution_count": 4,
   "id": "d2f67bc7-f792-4fd5-91df-700af56debc0",
   "metadata": {},
   "outputs": [
    {
     "data": {
      "text/plain": [
       "[2, 3, 5, 7, 11, 13]"
      ]
     },
     "execution_count": 4,
     "metadata": {},
     "output_type": "execute_result"
    }
   ],
   "source": [
    "numbers[0:6]"
   ]
  },
  {
   "cell_type": "code",
   "execution_count": 5,
   "id": "a6090c3e-ff33-45fa-b290-6b798247a37d",
   "metadata": {},
   "outputs": [
    {
     "data": {
      "text/plain": [
       "[17, 19]"
      ]
     },
     "execution_count": 5,
     "metadata": {},
     "output_type": "execute_result"
    }
   ],
   "source": [
    "numbers[6:]"
   ]
  },
  {
   "cell_type": "code",
   "execution_count": 6,
   "id": "a7b4faeb-94a4-4bc9-9d40-cdde2f200a4a",
   "metadata": {},
   "outputs": [
    {
     "data": {
      "text/plain": [
       "[17, 19]"
      ]
     },
     "execution_count": 6,
     "metadata": {},
     "output_type": "execute_result"
    }
   ],
   "source": [
    "numbers[6:len(numbers)]"
   ]
  },
  {
   "cell_type": "code",
   "execution_count": 7,
   "id": "d9f4922f-3a92-4517-acbc-3fd4ecd9d645",
   "metadata": {},
   "outputs": [
    {
     "data": {
      "text/plain": [
       "[2, 3, 5, 7, 11, 13, 17, 19]"
      ]
     },
     "execution_count": 7,
     "metadata": {},
     "output_type": "execute_result"
    }
   ],
   "source": [
    "numbers[:]"
   ]
  },
  {
   "cell_type": "code",
   "execution_count": 8,
   "id": "e9c8fb44-03f1-49be-8cd8-ad6e035c565b",
   "metadata": {},
   "outputs": [
    {
     "data": {
      "text/plain": [
       "[2, 5, 11, 17]"
      ]
     },
     "execution_count": 8,
     "metadata": {},
     "output_type": "execute_result"
    }
   ],
   "source": [
    "numbers[::2]"
   ]
  },
  {
   "cell_type": "code",
   "execution_count": 9,
   "id": "bbe2255f-19db-4c53-9e66-f7e43edac1ac",
   "metadata": {},
   "outputs": [
    {
     "data": {
      "text/plain": [
       "[19, 17, 13, 11, 7, 5, 3, 2]"
      ]
     },
     "execution_count": 9,
     "metadata": {},
     "output_type": "execute_result"
    }
   ],
   "source": [
    "numbers[::-1]"
   ]
  },
  {
   "cell_type": "code",
   "execution_count": 10,
   "id": "034b22ae-3464-4dcf-b904-b165767c8329",
   "metadata": {},
   "outputs": [
    {
     "data": {
      "text/plain": [
       "[19, 17, 13, 11, 7, 5, 3, 2]"
      ]
     },
     "execution_count": 10,
     "metadata": {},
     "output_type": "execute_result"
    }
   ],
   "source": [
    "numbers[-1:-9:-1]"
   ]
  },
  {
   "cell_type": "code",
   "execution_count": 11,
   "id": "eb9bd045-be2a-46bd-9405-c778c37ff899",
   "metadata": {},
   "outputs": [],
   "source": [
    "numbers[0:3] = ['two', 'three', 'five']"
   ]
  },
  {
   "cell_type": "code",
   "execution_count": 12,
   "id": "952a574b-99ac-4110-a063-7cd93b72767d",
   "metadata": {},
   "outputs": [
    {
     "data": {
      "text/plain": [
       "['two', 'three', 'five', 7, 11, 13, 17, 19]"
      ]
     },
     "execution_count": 12,
     "metadata": {},
     "output_type": "execute_result"
    }
   ],
   "source": [
    "numbers"
   ]
  },
  {
   "cell_type": "code",
   "execution_count": 13,
   "id": "09c5a738-99bb-45f1-8365-091babcaff2e",
   "metadata": {},
   "outputs": [],
   "source": [
    "numbers[0:3] = []"
   ]
  },
  {
   "cell_type": "code",
   "execution_count": 14,
   "id": "7eec49f3-483d-4e49-926a-8a6aa1df4289",
   "metadata": {},
   "outputs": [
    {
     "data": {
      "text/plain": [
       "[7, 11, 13, 17, 19]"
      ]
     },
     "execution_count": 14,
     "metadata": {},
     "output_type": "execute_result"
    }
   ],
   "source": [
    "numbers"
   ]
  },
  {
   "cell_type": "code",
   "execution_count": 18,
   "id": "62eeff22-136e-4c45-8105-f291a9b2e02b",
   "metadata": {},
   "outputs": [],
   "source": [
    "numbers = [2, 3, 5, 7, 11, 13, 17, 19]"
   ]
  },
  {
   "cell_type": "code",
   "execution_count": 19,
   "id": "72d1be83-3a5e-403c-a522-8f735945d942",
   "metadata": {},
   "outputs": [],
   "source": [
    "numbers[::2] = [100, 100, 100, 100]"
   ]
  },
  {
   "cell_type": "code",
   "execution_count": 20,
   "id": "d7c4b225-9d28-4ffc-9eaf-bc74c9e3fca5",
   "metadata": {},
   "outputs": [
    {
     "data": {
      "text/plain": [
       "[100, 3, 100, 7, 100, 13, 100, 19]"
      ]
     },
     "execution_count": 20,
     "metadata": {},
     "output_type": "execute_result"
    }
   ],
   "source": [
    "numbers"
   ]
  },
  {
   "cell_type": "code",
   "execution_count": 21,
   "id": "bdc59bfe-3559-4e95-a8fc-943eb948bb1f",
   "metadata": {},
   "outputs": [
    {
     "data": {
      "text/plain": [
       "4463664256"
      ]
     },
     "execution_count": 21,
     "metadata": {},
     "output_type": "execute_result"
    }
   ],
   "source": [
    "id(numbers)"
   ]
  },
  {
   "cell_type": "code",
   "execution_count": 22,
   "id": "8625deca-0deb-4a93-8a84-baad1841625b",
   "metadata": {},
   "outputs": [],
   "source": [
    "numbers = []"
   ]
  },
  {
   "cell_type": "code",
   "execution_count": 23,
   "id": "b3c86a0c-4053-4bf8-b774-098645de05b5",
   "metadata": {},
   "outputs": [
    {
     "data": {
      "text/plain": [
       "[]"
      ]
     },
     "execution_count": 23,
     "metadata": {},
     "output_type": "execute_result"
    }
   ],
   "source": [
    "numbers"
   ]
  },
  {
   "cell_type": "code",
   "execution_count": 24,
   "id": "fd70ed42-75aa-4d9f-a607-27357ba6a4c9",
   "metadata": {},
   "outputs": [
    {
     "data": {
      "text/plain": [
       "4463614864"
      ]
     },
     "execution_count": 24,
     "metadata": {},
     "output_type": "execute_result"
    }
   ],
   "source": [
    "id(numbers)"
   ]
  },
  {
   "cell_type": "code",
   "execution_count": 25,
   "id": "31ef0353-3ad9-4d7c-915a-731f71e17a0f",
   "metadata": {},
   "outputs": [],
   "source": [
    "numbers = list(range(1, 16))"
   ]
  },
  {
   "cell_type": "code",
   "execution_count": 26,
   "id": "96bef93a-83f5-4402-819e-2a32453c40d8",
   "metadata": {},
   "outputs": [
    {
     "data": {
      "text/plain": [
       "[1, 2, 3, 4, 5, 6, 7, 8, 9, 10, 11, 12, 13, 14, 15]"
      ]
     },
     "execution_count": 26,
     "metadata": {},
     "output_type": "execute_result"
    }
   ],
   "source": [
    "numbers"
   ]
  },
  {
   "cell_type": "code",
   "execution_count": 27,
   "id": "f80a5b97-8afe-4b3f-b163-4268364895ae",
   "metadata": {},
   "outputs": [
    {
     "data": {
      "text/plain": [
       "[2, 4, 6, 8, 10, 12, 14]"
      ]
     },
     "execution_count": 27,
     "metadata": {},
     "output_type": "execute_result"
    }
   ],
   "source": [
    "numbers[1:len(numbers):2]"
   ]
  },
  {
   "cell_type": "code",
   "execution_count": 28,
   "id": "ce3e0b4e-2cb0-4022-b89a-1eb0faf7fa6f",
   "metadata": {},
   "outputs": [],
   "source": [
    "numbers[5:10] = [0] * len(numbers[5:10])"
   ]
  },
  {
   "cell_type": "code",
   "execution_count": 29,
   "id": "4a3357d7-fba4-44c8-8ee2-73728511a544",
   "metadata": {},
   "outputs": [
    {
     "data": {
      "text/plain": [
       "[1, 2, 3, 4, 5, 0, 0, 0, 0, 0, 11, 12, 13, 14, 15]"
      ]
     },
     "execution_count": 29,
     "metadata": {},
     "output_type": "execute_result"
    }
   ],
   "source": [
    "numbers"
   ]
  },
  {
   "cell_type": "code",
   "execution_count": 30,
   "id": "5baedf20-de6e-4f12-9701-3073dff1d4a1",
   "metadata": {},
   "outputs": [],
   "source": [
    "numbers[5:] = []"
   ]
  },
  {
   "cell_type": "code",
   "execution_count": 31,
   "id": "646dd5fd-4a10-4b59-abce-ea7d9e9f891e",
   "metadata": {},
   "outputs": [
    {
     "data": {
      "text/plain": [
       "[1, 2, 3, 4, 5]"
      ]
     },
     "execution_count": 31,
     "metadata": {},
     "output_type": "execute_result"
    }
   ],
   "source": [
    "numbers"
   ]
  },
  {
   "cell_type": "code",
   "execution_count": 32,
   "id": "1d9129a6-0a47-4432-8d2d-a0b481ab5f6f",
   "metadata": {},
   "outputs": [],
   "source": [
    "numbers[:] = []"
   ]
  },
  {
   "cell_type": "code",
   "execution_count": 33,
   "id": "e0242156-29a4-42c5-b7df-80b62d499fd8",
   "metadata": {},
   "outputs": [
    {
     "data": {
      "text/plain": [
       "[]"
      ]
     },
     "execution_count": 33,
     "metadata": {},
     "output_type": "execute_result"
    }
   ],
   "source": [
    "numbers"
   ]
  },
  {
   "cell_type": "code",
   "execution_count": null,
   "id": "8df8ba25-0b1f-409a-9f56-71bb16124fe9",
   "metadata": {},
   "outputs": [],
   "source": []
  }
 ],
 "metadata": {
  "kernelspec": {
   "display_name": "Python 3",
   "language": "python",
   "name": "python3"
  },
  "language_info": {
   "codemirror_mode": {
    "name": "ipython",
    "version": 3
   },
   "file_extension": ".py",
   "mimetype": "text/x-python",
   "name": "python",
   "nbconvert_exporter": "python",
   "pygments_lexer": "ipython3",
   "version": "3.7.13"
  }
 },
 "nbformat": 4,
 "nbformat_minor": 5
}
